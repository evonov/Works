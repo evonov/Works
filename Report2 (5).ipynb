{
 "cells": [
  {
   "cell_type": "markdown",
   "metadata": {},
   "source": [
    "# Модуль №2\n",
    "## 2.1 Классификация документов\n"
   ]
  },
  {
   "cell_type": "code",
   "execution_count": 52,
   "metadata": {},
   "outputs": [],
   "source": [
    "import pandas as pd\n",
    "import numpy as np\n",
    "import seaborn as sb\n",
    "# Скроем предупреждения из библиотек, содержащие информацию об изменениях в грудящих версиях\n",
    "# т.к. в процессе работы классификаторов их будет чрезмерно много\n",
    "import warnings\n",
    "warnings.filterwarnings('ignore')"
   ]
  },
  {
   "cell_type": "code",
   "execution_count": 53,
   "metadata": {},
   "outputs": [
    {
     "name": "stdout",
     "output_type": "stream",
     "text": [
      "<class 'pandas.core.frame.DataFrame'>\n",
      "RangeIndex: 4966 entries, 0 to 4965\n",
      "Columns: 5412 entries, Unnamed: 0 to ярославская\n",
      "dtypes: int64(5412)\n",
      "memory usage: 205.0 MB\n"
     ]
    }
   ],
   "source": [
    "df = pd.read_csv(\"data/data2.csv\")\n",
    "df_res=pd.read_csv(\"data/data_clear.csv\")\n",
    "df_res.info()"
   ]
  },
  {
   "cell_type": "code",
   "execution_count": 54,
   "metadata": {},
   "outputs": [
    {
     "data": {
      "text/plain": [
       "((4966, 5418), (4966, 5412))"
      ]
     },
     "execution_count": 54,
     "metadata": {},
     "output_type": "execute_result"
    }
   ],
   "source": [
    "df.shape, df_res.shape"
   ]
  },
  {
   "cell_type": "markdown",
   "metadata": {},
   "source": [
    "Теперь такой набор данных разобьем на тестовую и обучающую выборки\n",
    "### Разделение выборки\n"
   ]
  },
  {
   "cell_type": "code",
   "execution_count": 55,
   "metadata": {},
   "outputs": [],
   "source": [
    "from sklearn.model_selection import train_test_split"
   ]
  },
  {
   "cell_type": "code",
   "execution_count": 56,
   "metadata": {},
   "outputs": [],
   "source": [
    "#random_state=1 для возможности воспроизведения результатов обучения модели при перекомпиляции\n",
    "x=df_res\n",
    "y=df['recipient']\n",
    "x_train, x_test, y_train, y_test = train_test_split(x, y, test_size=0.1, shuffle=True, random_state=1)"
   ]
  },
  {
   "cell_type": "markdown",
   "metadata": {},
   "source": [
    "### Выбор модели"
   ]
  },
  {
   "cell_type": "markdown",
   "metadata": {},
   "source": [
    "## 2.2 Обучение"
   ]
  },
  {
   "cell_type": "code",
   "execution_count": null,
   "metadata": {},
   "outputs": [],
   "source": [
    "from sklearn.linear_model import LogisticRegression as LR\n",
    "from sklearn.ensemble import RandomForestClassifier as RF\n",
    "from sklearn.naive_bayes import MultinomialNB as NB\n",
    "from sklearn.neighbors import KNeighborsClassifier as KN\n",
    "from sklearn.multiclass import OneVsRestClassifier as OVRC"
   ]
  },
  {
   "cell_type": "markdown",
   "metadata": {},
   "source": [
    "### Способы оценки качества работы модели\n",
    "Изначальным способом оценки модели является сравниние ее точности с долей доминирующего в выборке класса. Для ее получения выведем частотные показатели целевой переменной в выборке. Этот показатель определяет точность классификатора, который всегда предсказывает самый популярный класс"
   ]
  },
  {
   "cell_type": "code",
   "execution_count": null,
   "metadata": {
    "scrolled": true
   },
   "outputs": [],
   "source": [
    "df['recipient'].value_counts(normalize=True)"
   ]
  },
  {
   "cell_type": "markdown",
   "metadata": {},
   "source": [
    "Итак, если полученная точность модели превысит 0.32, то можно говорить, что обучение дало результат."
   ]
  },
  {
   "cell_type": "markdown",
   "metadata": {},
   "source": [
    "Приступим к обучению моделей. Каждая модель будет оцениваться типичным показателем качества работы классификаторов - Accuracy (точность)"
   ]
  },
  {
   "cell_type": "markdown",
   "metadata": {},
   "source": [
    "### RandomForestClassifier"
   ]
  },
  {
   "cell_type": "code",
   "execution_count": 57,
   "metadata": {},
   "outputs": [
    {
     "name": "stdout",
     "output_type": "stream",
     "text": [
      "Точность на обучающей выборке: 0.9964197807115686\n",
      "Точность на тестовой выборке: 0.9255533199195171\n"
     ]
    }
   ],
   "source": [
    "RFclassifier=RF(random_state=1)\n",
    "RFclassifier.fit(x_train, y_train)\n",
    "print(\"Точность на обучающей выборке:\",RFclassifier.score(x_train, y_train))\n",
    "print(\"Точность на тестовой выборке:\",RFclassifier.score(x_test, y_test))"
   ]
  },
  {
   "cell_type": "markdown",
   "metadata": {},
   "source": [
    "В целом, деревья решений дали аналогичный результат, но одна из причин, по которой он не был выбран - количество признаков, которое могло бы повлиять на затраты при обучении, если бы у нас была большая выборка\n",
    "### Naive Bayes"
   ]
  },
  {
   "cell_type": "code",
   "execution_count": 58,
   "metadata": {},
   "outputs": [
    {
     "name": "stdout",
     "output_type": "stream",
     "text": [
      "Точность на обучающей выборке: 0.6849407026180353\n",
      "Точность на тестовой выборке: 0.6599597585513078\n"
     ]
    }
   ],
   "source": [
    "NBclassifier=NB()\n",
    "NBclassifier.fit(x_train, y_train)\n",
    "print(\"Точность на обучающей выборке:\",NBclassifier.score(x_train, y_train))\n",
    "print(\"Точность на тестовой выборке:\",NBclassifier.score(x_test, y_test))"
   ]
  },
  {
   "cell_type": "markdown",
   "metadata": {},
   "source": [
    "Наивный Байесовский классификатор показал схожий с предыдущими моделями результат на тестовой выборке, а на обучающей - один из наихудших. Это обусловленно многочисленностью малопопулярных классов\n",
    "### K-Neighbours"
   ]
  },
  {
   "cell_type": "code",
   "execution_count": 59,
   "metadata": {},
   "outputs": [
    {
     "name": "stdout",
     "output_type": "stream",
     "text": [
      "Точность на обучающей выборке: 0.5683598120384874\n",
      "Точность на тестовой выборке: 0.40643863179074446\n"
     ]
    }
   ],
   "source": [
    "KNclassifier=KN()\n",
    "KNclassifier.fit(x_train, y_train)\n",
    "print(\"Точность на обучающей выборке:\",KNclassifier.score(x_train, y_train))\n",
    "print(\"Точность на тестовой выборке:\",KNclassifier.score(x_test, y_test))"
   ]
  },
  {
   "cell_type": "markdown",
   "metadata": {},
   "source": [
    "К-соседей показал наихудший результат из всех моделей, и к тому же потратил некоторое количество времени на обучение даже на такой малой выборке. Это говорит о нецелесообразности применять данный метод на нашей выборке с большим количеством измерений (признаков)\n"
   ]
  },
  {
   "cell_type": "code",
   "execution_count": null,
   "metadata": {},
   "outputs": [],
   "source": []
  }
 ],
 "metadata": {
  "kernelspec": {
   "display_name": "Python 3",
   "language": "python",
   "name": "python3"
  },
  "language_info": {
   "codemirror_mode": {
    "name": "ipython",
    "version": 3
   },
   "file_extension": ".py",
   "mimetype": "text/x-python",
   "name": "python",
   "nbconvert_exporter": "python",
   "pygments_lexer": "ipython3",
   "version": "3.7.3"
  }
 },
 "nbformat": 4,
 "nbformat_minor": 2
}
